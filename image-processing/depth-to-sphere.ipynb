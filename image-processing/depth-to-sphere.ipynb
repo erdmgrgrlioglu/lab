{
 "cells": [
  {
   "cell_type": "code",
   "execution_count": null,
   "id": "2a7d76bb",
   "metadata": {},
   "outputs": [],
   "source": [
    "import numpy as np\n",
    "import cv2\n",
    "import math\n",
    "\n",
    "img = cv2.imread('/home/eeg/arch/lab/image-processing/input/earth.png')\n",
    "h = img.shape[0]\n",
    "w = img.shape[1]\n",
    "\n",
    "img = img.astype(np.float32) / 10000.0 #normalize\n",
    "r = w/(2*math.pi) #normalize\n",
    "    \n",
    "with open('/home/eeg/arch/lab/image-processing/output/out.obj',\"w\") as f:    \n",
    "    for i in range(h):\n",
    "        teta=math.pi*i/(h-1) #equador angle\n",
    "        for j in range(w):\n",
    "            azimuth=2*math.pi*(w-j-1)/(w-1) #meridian angle\n",
    "\n",
    "            x=(1+img[i,j][0])*r*math.sin(teta)*math.sin(azimuth)\n",
    "            y=(1+img[i,j][0])*r*math.sin(teta)*math.cos(azimuth)\n",
    "            z=(1+img[i,j][0])*r*math.cos(teta)\n",
    "\n",
    "            f.write(\"v \" + str(x) + \" \" + str(y) + \" \" + str(z) + \"\\n\")\n",
    "    for i in range(h-1):\n",
    "        for j in range(w-1):\n",
    "            f.write(\"f \" + str(j+(i*w)+1) + \" \" + str(j+(i*w)+2) + \" \" + str(j+(i*w)+w+1) + \"\\n\")\n",
    "            f.write(\"f \" + str(j+(i*w)+2) + \" \" + str(j+(i*w)+w+1) + \" \" + str(j+(i*w)+w+2) + \"\\n\")"
   ]
  }
 ],
 "metadata": {
  "kernelspec": {
   "display_name": ".venv",
   "language": "python",
   "name": "python3"
  },
  "language_info": {
   "codemirror_mode": {
    "name": "ipython",
    "version": 3
   },
   "file_extension": ".py",
   "mimetype": "text/x-python",
   "name": "python",
   "nbconvert_exporter": "python",
   "pygments_lexer": "ipython3",
   "version": "3.13.7"
  }
 },
 "nbformat": 4,
 "nbformat_minor": 5
}
