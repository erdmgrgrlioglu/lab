{
 "cells": [
  {
   "cell_type": "code",
   "execution_count": null,
   "id": "0d33a64e",
   "metadata": {},
   "outputs": [],
   "source": [
    "import numpy as np\n",
    "import cv2\n",
    "import tensorflow as tf\n",
    "\n",
    "from tensorflow import datasets, layers, models\n",
    "import matplotlib.pyplot as plt\n",
    "\n",
    "img = cv2.imread('/home/eeg/arch/lab/image-processing/input/input.png').astype(np.float32) / 100.0\n",
    "\n",
    "categories = ['a', 'b']\n",
    "data = []\n",
    "labels = []"
   ]
  }
 ],
 "metadata": {
  "kernelspec": {
   "display_name": ".venv",
   "language": "python",
   "name": "python3"
  },
  "language_info": {
   "codemirror_mode": {
    "name": "ipython",
    "version": 3
   },
   "file_extension": ".py",
   "mimetype": "text/x-python",
   "name": "python",
   "nbconvert_exporter": "python",
   "pygments_lexer": "ipython3",
   "version": "3.13.5"
  }
 },
 "nbformat": 4,
 "nbformat_minor": 5
}
